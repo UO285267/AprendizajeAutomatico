{
 "cells": [
  {
   "cell_type": "code",
   "execution_count": null,
   "metadata": {},
   "outputs": [],
   "source": [
    "import pandas as pd\n",
    "\n",
    "df = pd.read_csv(\"datasets/datos05_train.csv\")\n",
    "\n",
    "# Separar las variables (X) de las etiquetas (y)\n",
    "X_train = df.drop(columns=[\"ActividadFisica\"]) # Quitar la columna de clase\n",
    "y_train = df[\"ActividadFisica\"]\n",
    "\n",
    "X_train"
   ]
  },
  {
   "cell_type": "code",
   "execution_count": null,
   "metadata": {},
   "outputs": [],
   "source": [
    "from sklearn.pipeline import Pipeline\n",
    "from sklearn.compose import ColumnTransformer\n",
    "from sklearn.impute import SimpleImputer\n",
    "from sklearn.preprocessing import StandardScaler, OneHotEncoder\n",
    "from sklearn.neighbors import KNeighborsClassifier\n",
    "\n",
    "procesador = ColumnTransformer(transformers=[\n",
    "    (\"num\",\n",
    "     Pipeline([\n",
    "         (\"imputador\", SimpleImputer()),\n",
    "         (\"std\",StandardScaler())\n",
    "     ]),\n",
    "        ['Peso','Estatura','Edad','PctGrasaCorporal']\n",
    "    ),\n",
    "    (\"cat\",\n",
    "     Pipeline([\n",
    "         (\"imputador\", SimpleImputer(strategy=\"most_frequent\")),\n",
    "         (\"std\",OneHotEncoder(handle_unknown=\"ignore\"))\n",
    "     ]),\n",
    "        ['EstadoCivil']\n",
    "\n",
    "    )\n",
    "])\n",
    "modelo = KNeighborsClassifier()\n",
    "\n",
    "\n",
    "modeloFinal = Pipeline([\n",
    "    (\"Preprocesado\", procesador),\n",
    "    (\"Clasificador\",modelo)\n",
    "])\n",
    "\n",
    "\n",
    "modeloFinal.fit(X_train,y_train)\n",
    "modeloFinal.predict(X_train)"
   ]
  }
 ],
 "metadata": {
  "kernelspec": {
   "display_name": "sis_int",
   "language": "python",
   "name": "python3"
  },
  "language_info": {
   "codemirror_mode": {
    "name": "ipython",
    "version": 3
   },
   "file_extension": ".py",
   "mimetype": "text/x-python",
   "name": "python",
   "nbconvert_exporter": "python",
   "pygments_lexer": "ipython3",
   "version": "3.12.3"
  }
 },
 "nbformat": 4,
 "nbformat_minor": 2
}
