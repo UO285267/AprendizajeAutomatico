{
 "cells": [
  {
   "cell_type": "code",
   "execution_count": 96,
   "metadata": {},
   "outputs": [
    {
     "data": {
      "text/html": [
       "<div>\n",
       "<style scoped>\n",
       "    .dataframe tbody tr th:only-of-type {\n",
       "        vertical-align: middle;\n",
       "    }\n",
       "\n",
       "    .dataframe tbody tr th {\n",
       "        vertical-align: top;\n",
       "    }\n",
       "\n",
       "    .dataframe thead th {\n",
       "        text-align: right;\n",
       "    }\n",
       "</style>\n",
       "<table border=\"1\" class=\"dataframe\">\n",
       "  <thead>\n",
       "    <tr style=\"text-align: right;\">\n",
       "      <th></th>\n",
       "      <th>Peso</th>\n",
       "      <th>Estatura</th>\n",
       "      <th>Edad</th>\n",
       "      <th>PctGrasaCorporal</th>\n",
       "      <th>EstadoCivil</th>\n",
       "    </tr>\n",
       "  </thead>\n",
       "  <tbody>\n",
       "    <tr>\n",
       "      <th>0</th>\n",
       "      <td>80.1</td>\n",
       "      <td>172.5</td>\n",
       "      <td>74.0</td>\n",
       "      <td>17.8</td>\n",
       "      <td>casado</td>\n",
       "    </tr>\n",
       "    <tr>\n",
       "      <th>1</th>\n",
       "      <td>82.3</td>\n",
       "      <td>164.4</td>\n",
       "      <td>29.0</td>\n",
       "      <td>19.5</td>\n",
       "      <td>soltero</td>\n",
       "    </tr>\n",
       "    <tr>\n",
       "      <th>2</th>\n",
       "      <td>52.6</td>\n",
       "      <td>162.8</td>\n",
       "      <td>36.0</td>\n",
       "      <td>13.2</td>\n",
       "      <td>soltero</td>\n",
       "    </tr>\n",
       "    <tr>\n",
       "      <th>3</th>\n",
       "      <td>92.5</td>\n",
       "      <td>174.2</td>\n",
       "      <td>72.0</td>\n",
       "      <td>18.7</td>\n",
       "      <td>soltero</td>\n",
       "    </tr>\n",
       "    <tr>\n",
       "      <th>4</th>\n",
       "      <td>84.9</td>\n",
       "      <td>174.4</td>\n",
       "      <td>21.0</td>\n",
       "      <td>17.6</td>\n",
       "      <td>casado</td>\n",
       "    </tr>\n",
       "    <tr>\n",
       "      <th>...</th>\n",
       "      <td>...</td>\n",
       "      <td>...</td>\n",
       "      <td>...</td>\n",
       "      <td>...</td>\n",
       "      <td>...</td>\n",
       "    </tr>\n",
       "    <tr>\n",
       "      <th>1495</th>\n",
       "      <td>64.4</td>\n",
       "      <td>188.6</td>\n",
       "      <td>60.0</td>\n",
       "      <td>11.0</td>\n",
       "      <td>soltero</td>\n",
       "    </tr>\n",
       "    <tr>\n",
       "      <th>1496</th>\n",
       "      <td>84.1</td>\n",
       "      <td>178.5</td>\n",
       "      <td>18.0</td>\n",
       "      <td>10.6</td>\n",
       "      <td>casado</td>\n",
       "    </tr>\n",
       "    <tr>\n",
       "      <th>1497</th>\n",
       "      <td>71.5</td>\n",
       "      <td>182.0</td>\n",
       "      <td>46.0</td>\n",
       "      <td>12.0</td>\n",
       "      <td>casado</td>\n",
       "    </tr>\n",
       "    <tr>\n",
       "      <th>1498</th>\n",
       "      <td>72.5</td>\n",
       "      <td>169.0</td>\n",
       "      <td>57.0</td>\n",
       "      <td>14.1</td>\n",
       "      <td>casado</td>\n",
       "    </tr>\n",
       "    <tr>\n",
       "      <th>1499</th>\n",
       "      <td>69.1</td>\n",
       "      <td>162.6</td>\n",
       "      <td>55.0</td>\n",
       "      <td>19.8</td>\n",
       "      <td>casado</td>\n",
       "    </tr>\n",
       "  </tbody>\n",
       "</table>\n",
       "<p>1500 rows × 5 columns</p>\n",
       "</div>"
      ],
      "text/plain": [
       "      Peso  Estatura  Edad  PctGrasaCorporal EstadoCivil\n",
       "0     80.1     172.5  74.0              17.8      casado\n",
       "1     82.3     164.4  29.0              19.5     soltero\n",
       "2     52.6     162.8  36.0              13.2     soltero\n",
       "3     92.5     174.2  72.0              18.7     soltero\n",
       "4     84.9     174.4  21.0              17.6      casado\n",
       "...    ...       ...   ...               ...         ...\n",
       "1495  64.4     188.6  60.0              11.0     soltero\n",
       "1496  84.1     178.5  18.0              10.6      casado\n",
       "1497  71.5     182.0  46.0              12.0      casado\n",
       "1498  72.5     169.0  57.0              14.1      casado\n",
       "1499  69.1     162.6  55.0              19.8      casado\n",
       "\n",
       "[1500 rows x 5 columns]"
      ]
     },
     "execution_count": 96,
     "metadata": {},
     "output_type": "execute_result"
    }
   ],
   "source": [
    "import pandas as pd\n",
    "\n",
    "df = pd.read_csv(\"datasets/datos05_train.csv\")\n",
    "\n",
    "# Separar las variables (X) de las etiquetas (y)\n",
    "X_train = df.drop(columns=[\"ActividadFisica\"]) # Quitar la columna de clase\n",
    "y_train = df[\"ActividadFisica\"]\n",
    "\n",
    "X_train"
   ]
  },
  {
   "cell_type": "code",
   "execution_count": 97,
   "metadata": {},
   "outputs": [
    {
     "data": {
      "text/plain": [
       "array([0, 1, 1, ..., 0, 0, 1])"
      ]
     },
     "execution_count": 97,
     "metadata": {},
     "output_type": "execute_result"
    }
   ],
   "source": [
    "from sklearn.pipeline import Pipeline\n",
    "from sklearn.compose import ColumnTransformer\n",
    "from sklearn.impute import SimpleImputer\n",
    "from sklearn.preprocessing import StandardScaler, OneHotEncoder\n",
    "from sklearn.neighbors import KNeighborsClassifier\n",
    "\n",
    "procesador = ColumnTransformer(transformers=[\n",
    "    (\"num\",\n",
    "     Pipeline([\n",
    "         (\"imputador\", SimpleImputer()),\n",
    "         (\"std\",StandardScaler())\n",
    "     ]),\n",
    "        ['Peso','Estatura','Edad','PctGrasaCorporal']\n",
    "    ),\n",
    "    (\"cat\",\n",
    "     Pipeline([\n",
    "         (\"imputador\", SimpleImputer(strategy=\"most_frequent\")),\n",
    "         (\"std\",OneHotEncoder(handle_unknown=\"ignore\"))\n",
    "     ]),\n",
    "        ['EstadoCivil']\n",
    "\n",
    "    )\n",
    "])\n",
    "modelo = KNeighborsClassifier()\n",
    "\n",
    "\n",
    "modeloFinal = Pipeline([\n",
    "    (\"Preprocesado\", procesador),\n",
    "    (\"Clasificador\",modelo)\n",
    "])\n",
    "\n",
    "\n",
    "modeloFinal.fit(X_train,y_train)\n",
    "modeloFinal.predict(X_train)"
   ]
  },
  {
   "cell_type": "code",
   "execution_count": 98,
   "metadata": {},
   "outputs": [
    {
     "data": {
      "text/plain": [
       "0.952"
      ]
     },
     "execution_count": 98,
     "metadata": {},
     "output_type": "execute_result"
    }
   ],
   "source": [
    "from sklearn.model_selection import train_test_split\n",
    "from sklearn.metrics import accuracy_score\n",
    "#Dataset completo\n",
    "df = pd.read_csv(\"datasets/datos05_train.csv\")\n",
    "X_orig = df.drop(columns=[\"ActividadFisica\"]) # Quitar la columna de clase\n",
    "y_orig = df[\"ActividadFisica\"]\n",
    "\n",
    "X_train, X_test ,y_train, y_test = train_test_split(X_orig,y_orig,test_size=0.25)\n",
    "\n",
    "modeloFinal.fit(X_train,y_train)\n",
    "\n",
    "y_pred = modeloFinal.predict(X_test)\n",
    "\n",
    "accuracy_score(y_pred,y_test)\n"
   ]
  },
  {
   "cell_type": "code",
   "execution_count": 99,
   "metadata": {},
   "outputs": [
    {
     "data": {
      "text/plain": [
       "0.944"
      ]
     },
     "execution_count": 99,
     "metadata": {},
     "output_type": "execute_result"
    }
   ],
   "source": [
    "#Dataset completo\n",
    "df = pd.read_csv(\"datasets/datos05_train.csv\")\n",
    "X_orig = df.drop(columns=[\"ActividadFisica\"]) # Quitar la columna de clase\n",
    "y_orig = df[\"ActividadFisica\"]\n",
    "\n",
    "#stratificar siempre\n",
    "X_train, X_test ,y_train, y_test = train_test_split(X_orig,y_orig,test_size=0.25,stratify=y_orig)\n",
    "\n",
    "modeloFinal.fit(X_train,y_train)\n",
    "\n",
    "y_pred = modeloFinal.predict(X_test)\n",
    "\n",
    "accuracy_score(y_pred,y_test)"
   ]
  },
  {
   "cell_type": "code",
   "execution_count": 100,
   "metadata": {},
   "outputs": [
    {
     "name": "stdout",
     "output_type": "stream",
     "text": [
      "0.9453333333333334\n",
      "0.009797958971132701\n"
     ]
    }
   ],
   "source": [
    "from sklearn.model_selection import cross_val_score\n",
    "\n",
    "#Dataset completo\n",
    "df = pd.read_csv(\"datasets/datos05_train.csv\")\n",
    "X_orig = df.drop(columns=[\"ActividadFisica\"]) # Quitar la columna de clase\n",
    "y_orig = df[\"ActividadFisica\"]\n",
    "\n",
    "\n",
    "accuracies = cross_val_score(modeloFinal,X_orig,y_orig, cv=10)\n",
    "\n",
    "import numpy as np\n",
    "\n",
    "print(np.mean(accuracies))\n",
    "print(np.std(accuracies))"
   ]
  },
  {
   "cell_type": "code",
   "execution_count": 101,
   "metadata": {},
   "outputs": [
    {
     "data": {
      "text/plain": [
       "{'fit_time': array([0.01501703, 0.01197243, 0.01199698, 0.0109756 , 0.01299667,\n",
       "        0.0109942 , 0.01100659, 0.01299262, 0.01199317, 0.01197505]),\n",
       " 'score_time': array([0.01396322, 0.01500535, 0.01399231, 0.01400971, 0.01399231,\n",
       "        0.01397872, 0.01399183, 0.01397943, 0.01301003, 0.01399183]),\n",
       " 'test_score': array([0.97333333, 0.94      , 0.94      , 0.96      , 0.93333333,\n",
       "        0.92666667, 0.94666667, 0.96      , 0.92666667, 0.96666667])}"
      ]
     },
     "execution_count": 101,
     "metadata": {},
     "output_type": "execute_result"
    }
   ],
   "source": [
    "from sklearn.model_selection import cross_validate\n",
    "from sklearn.model_selection import StratifiedKFold\n",
    "#Dataset completo\n",
    "df = pd.read_csv(\"datasets/datos05_train.csv\")\n",
    "X_orig = df.drop(columns=[\"ActividadFisica\"]) # Quitar la columna de clase\n",
    "y_orig = df[\"ActividadFisica\"]\n",
    " \n",
    "cv = StratifiedKFold(n_splits=10,shuffle=True)\n",
    "resultados = cross_validate(modeloFinal,X_orig,y_orig, cv=cv)\n",
    "resultados"
   ]
  },
  {
   "cell_type": "code",
   "execution_count": 102,
   "metadata": {},
   "outputs": [
    {
     "name": "stdout",
     "output_type": "stream",
     "text": [
      "Hold-Out= 0.6003351487222455\n",
      "Validación cruzada = 0.5924002546456365\n"
     ]
    }
   ],
   "source": [
    "#Ejercicio 1 clase 2\n",
    "\n",
    "df = pd.read_csv(\"datasets/MathLearningDataset.csv\")\n",
    "\n",
    "X_orig = df.drop(columns=[\"Type of Answer\"]) # Quitar la columna de clase\n",
    "y_orig = df[\"Type of Answer\"]\n",
    "#Hold-out\n",
    "procesador = ColumnTransformer(transformers=[\n",
    "    (\"num\",\n",
    "     Pipeline([\n",
    "         (\"imputador\", SimpleImputer()),\n",
    "         (\"std\",StandardScaler())\n",
    "     ]),\n",
    "        ['Student Age','Response Time (s)']\n",
    "    ),\n",
    "    (\"cat\",\n",
    "     Pipeline([\n",
    "         (\"imputador\", SimpleImputer(strategy=\"most_frequent\")),\n",
    "         (\"std\",OneHotEncoder(handle_unknown=\"ignore\"))\n",
    "     ]),\n",
    "        ['Student Country','Question Level','Topic','Subtopic']\n",
    "\n",
    "    )\n",
    "])\n",
    "modelo = KNeighborsClassifier(6)\n",
    "\n",
    "\n",
    "modeloFinal1 = Pipeline([\n",
    "    (\"Preprocesado\", procesador),\n",
    "    (\"Clasificador\",modelo)\n",
    "])\n",
    "\n",
    "\n",
    "X_train, X_test ,y_train, y_test = train_test_split(X_orig,y_orig,test_size=0.25,stratify=y_orig)\n",
    "\n",
    "modeloFinal1.fit(X_train,y_train)\n",
    "\n",
    "y_pred = modeloFinal1.predict(X_test)\n",
    "\n",
    "score = accuracy_score(y_pred,y_test)\n",
    "print(\"Hold-Out=\", score)\n",
    "#Validacion cruzada 10 folds\n",
    "cv = StratifiedKFold(n_splits=10,shuffle=True)\n",
    "accuracies = cross_val_score(modeloFinal1,X_orig,y_orig, cv=cv)\n",
    "\n",
    "import numpy as np\n",
    "\n",
    "print(\"Validación cruzada =\",np.mean(accuracies))\n",
    "#print(np.std(accuracies))"
   ]
  },
  {
   "cell_type": "code",
   "execution_count": 107,
   "metadata": {},
   "outputs": [
    {
     "data": {
      "text/plain": [
       "{'Clasificador__n_neighbors': 1}"
      ]
     },
     "execution_count": 107,
     "metadata": {},
     "output_type": "execute_result"
    }
   ],
   "source": [
    "from sklearn.model_selection import GridSearchCV\n",
    "#Dataset completo\n",
    "df = pd.read_csv(\"datasets/datos05_train.csv\")\n",
    "X_orig = df.drop(columns=[\"ActividadFisica\"]) # Quitar la columna de clase\n",
    "y_orig = df[\"ActividadFisica\"]\n",
    "\n",
    "\n",
    "\n",
    "procesador = ColumnTransformer(transformers=[\n",
    "    (\"num\",\n",
    "     Pipeline([\n",
    "         (\"imputador\", SimpleImputer()),\n",
    "         (\"std\",StandardScaler())\n",
    "     ]),\n",
    "        ['Peso','Estatura','Edad','PctGrasaCorporal']\n",
    "    ),\n",
    "    (\"cat\",\n",
    "     Pipeline([\n",
    "         (\"imputador\", SimpleImputer(strategy=\"most_frequent\")),\n",
    "         (\"std\",OneHotEncoder(handle_unknown=\"ignore\"))\n",
    "     ]),\n",
    "        ['EstadoCivil']\n",
    "\n",
    "    )\n",
    "])\n",
    "modelo = KNeighborsClassifier()\n",
    "\n",
    "\n",
    "modeloFinal = Pipeline([\n",
    "    (\"Preprocesado\", procesador),\n",
    "    (\"Clasificador\",modelo)\n",
    "])\n",
    "\n",
    "\n",
    "#stratificar siempre\n",
    "X_train, X_test ,y_train, y_test = train_test_split(X_orig,y_orig,test_size=0.25,stratify=y_orig)\n",
    "\n",
    "parametros = {\n",
    "    \"Clasificador__n_neighbors\":[1,3,5,7,9,11]\n",
    "}\n",
    "\n",
    "\n",
    "cv = StratifiedKFold(n_splits=5,shuffle=True)\n",
    "\n",
    "gridSearch =  GridSearchCV(modeloFinal, param_grid=parametros)\n",
    "gridSearch.fit(X_train,y_train)\n",
    "gridSearch.best_params_\n",
    "\n",
    "mejorModelo = gridSearch.best_estimator_\n",
    "\n",
    "y_pred =  mejorModelo.predict(X_test)\n",
    "accuracy_score(y_test,y_pred)"
   ]
  }
 ],
 "metadata": {
  "kernelspec": {
   "display_name": "sis_int",
   "language": "python",
   "name": "python3"
  },
  "language_info": {
   "codemirror_mode": {
    "name": "ipython",
    "version": 3
   },
   "file_extension": ".py",
   "mimetype": "text/x-python",
   "name": "python",
   "nbconvert_exporter": "python",
   "pygments_lexer": "ipython3",
   "version": "3.12.3"
  }
 },
 "nbformat": 4,
 "nbformat_minor": 2
}
