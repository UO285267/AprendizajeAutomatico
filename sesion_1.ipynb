{
 "cells": [
  {
   "cell_type": "code",
   "execution_count": null,
   "metadata": {},
   "outputs": [],
   "source": [
    "import pandas as pd\n",
    "import numpy as np\n",
    "import sklearn\n",
    "\n",
    "df = pd.read_csv(\"datasets/datos02a_train.csv\")\n",
    "X_train = df.drop(columns=[\"ActividadFisica\"])\n",
    "y_train = df[\"ActividadFisica\"]\n"
   ]
  },
  {
   "cell_type": "code",
   "execution_count": null,
   "metadata": {},
   "outputs": [],
   "source": [
    "X_train"
   ]
  },
  {
   "cell_type": "code",
   "execution_count": null,
   "metadata": {},
   "outputs": [],
   "source": [
    "y_train"
   ]
  },
  {
   "cell_type": "code",
   "execution_count": null,
   "metadata": {},
   "outputs": [],
   "source": [
    "from sklearn.neighbors import KNeighborsClassifier\n",
    "\n",
    "modelo = KNeighborsClassifier(n_neighbors=3)\n",
    "\n",
    "modelo.fit(X_train,y_train)"
   ]
  },
  {
   "cell_type": "code",
   "execution_count": null,
   "metadata": {},
   "outputs": [],
   "source": [
    "persona = [80,190,25,18]\n",
    "\n",
    "predicted = modelo.predict_proba([persona])"
   ]
  },
  {
   "cell_type": "code",
   "execution_count": null,
   "metadata": {},
   "outputs": [],
   "source": [
    "X_test = pd.read_csv(\"datasets/datos02a_test.csv\")"
   ]
  },
  {
   "cell_type": "code",
   "execution_count": null,
   "metadata": {},
   "outputs": [],
   "source": [
    "modelo2 = KNeighborsClassifier(3)\n",
    "print(X_train)\n",
    "print(y_train)\n",
    "modelo2.fit(X_train[[\"Peso\",\"Estatura\"]],y_train)"
   ]
  },
  {
   "cell_type": "code",
   "execution_count": null,
   "metadata": {},
   "outputs": [],
   "source": [
    "y_pred = modelo2.predict(X_test)\n",
    "y_test = pd.read_csv(\"datasets/datos02a_test_etiquetas.csv\")"
   ]
  },
  {
   "cell_type": "code",
   "execution_count": null,
   "metadata": {},
   "outputs": [],
   "source": [
    "y_test"
   ]
  },
  {
   "cell_type": "code",
   "execution_count": null,
   "metadata": {},
   "outputs": [],
   "source": [
    "from sklearn.metrics import accuracy_score\n",
    "accuracy_score(y_pred,y_test)"
   ]
  },
  {
   "cell_type": "code",
   "execution_count": null,
   "metadata": {},
   "outputs": [],
   "source": [
    "#EJERCICIO: modelo con datos02b_train.csv (10 minutos)\n",
    "#Carga los datos de datos02b_train.csv y entrena un modelo KNN para hacer \n",
    "# predicciones con los vecinos más cercanos.\n",
    "#  Utiliza este modelo para predecir datos02a_test.csv y obtén el número de instancias \n",
    "# bien clasificadas. \n",
    "# ¿Mejoran o empeoran las predicciones respecto al modelo con los datos datos02a_train.csv?\n",
    "df = pd.read_csv(\"datasets/datos02b_train.csv\")\n",
    "X_train = df.drop(columns=\"ActividadFisica\")\n",
    "Y_train = df[[\"ActividadFisica\"]]\n",
    "\n",
    "\n",
    "modelo3 = KNeighborsClassifier(5)\n",
    "\n",
    "modelo3.fit(X_train,Y_train)\n",
    "\n",
    "y_pred = modelo3.predict(X_test)\n",
    "\n",
    "accuracy_score(y_test, y_pred)"
   ]
  },
  {
   "cell_type": "code",
   "execution_count": null,
   "metadata": {},
   "outputs": [],
   "source": [
    "from sklearn.preprocessing import StandardScaler\n",
    "\n",
    "estandarizador = StandardScaler()\n",
    "\n",
    "estandarizador.fit(X_train,Y_train)\n",
    "\n",
    "X_train = estandarizador.transform(X_train)\n",
    "#Es igual \n",
    "#estandarizador1 = StandardScaler()\n",
    "\n",
    "#estandarizador1.fit_transform(X_train,Y_train)\n"
   ]
  },
  {
   "cell_type": "code",
   "execution_count": null,
   "metadata": {},
   "outputs": [],
   "source": [
    "X_test = estandarizador.transform(X_test)"
   ]
  },
  {
   "cell_type": "code",
   "execution_count": null,
   "metadata": {},
   "outputs": [],
   "source": [
    "df = pd.read_csv(\"datasets/datos04_train.csv\")\n",
    "\n",
    "# Separar las variables (X) de las etiquetas (y)\n",
    "X_train = df.drop(columns=[\"ActividadFisica\"]) # Quitar la columna de clase\n",
    "y_train = df[\"ActividadFisica\"]\n",
    "\n",
    "from sklearn.compose import ColumnTransformer\n",
    "from sklearn.preprocessing import OneHotEncoder\n",
    "\n",
    "procesador = ColumnTransformer(transformers=[\n",
    "    (\"num\",StandardScaler(),['Peso','Estatura','Edad','PctGrasaCorporal']),\n",
    "    (\"cat\",OneHotEncoder(),['EstadoCivil'])\n",
    "])\n",
    "\n",
    "X_train = procesador.fit_transform(X_train,y_train)\n",
    "\n",
    "print(X_train[0])"
   ]
  },
  {
   "cell_type": "code",
   "execution_count": null,
   "metadata": {},
   "outputs": [],
   "source": [
    "from sklearn.impute import SimpleImputer\n",
    "df = pd.read_csv(\"datasets/datos05_train.csv\")\n",
    "\n",
    "# Separar las variables (X) de las etiquetas (y)\n",
    "X_train = df.drop(columns=[\"ActividadFisica\"]) # Quitar la columna de clase\n",
    "y_train = df[\"ActividadFisica\"]\n",
    "\n",
    "\n",
    "\n",
    "imputer = ColumnTransformer(transformers=[\n",
    "    (\"num\",SimpleImputer(strategy=\"mean\"),['Peso','Estatura','Edad','PctGrasaCorporal']),\n",
    "    (\"cat\",SimpleImputer(strategy=\"most_frequent\"),['EstadoCivil'])\n",
    "])\n",
    "\n",
    "\n",
    "X_train = imputer.fit_transform(X_train,y_train)\n",
    "\n",
    "df = X_train"
   ]
  },
  {
   "cell_type": "code",
   "execution_count": null,
   "metadata": {},
   "outputs": [],
   "source": [
    "\n",
    "#Ejercicio 2\n",
    "df = pd.read_csv(\"datasets/MathLearningDataset.csv\")\n",
    "\n",
    "X_train = df.drop(columns=[\"Type of Answer\"]) # Quitar la columna de clase\n",
    "y_train = df[\"Type of Answer\"]\n",
    "df\n",
    "imputer = ColumnTransformer(transformers=[\n",
    "    (\"num\",SimpleImputer(strategy=\"mean\"),['Student Age','Response Time (s)']),\n",
    "    (\"cat\",SimpleImputer(strategy=\"most_frequent\"),['Student Country','Question Level','Topic','Subtopic'])\n",
    "])\n",
    "\n",
    "X_train = imputer.fit_transform(X_train,y_train)\n",
    "\n",
    "X_train = pd.DataFrame(data=X_train, columns=['Student Age','Response Time (s)','Student Country','Question Level','Topic','Subtopic'])\n",
    "\n",
    "procesador = ColumnTransformer(transformers=[\n",
    "    (\"num\",StandardScaler(),['Student Age','Response Time (s)']),\n",
    "    (\"cat\",OneHotEncoder(),['Student Country','Question Level','Topic','Subtopic'])\n",
    "])\n",
    "\n",
    "X_train = procesador.fit_transform(X_train,y_train)\n"
   ]
  }
 ],
 "metadata": {
  "kernelspec": {
   "display_name": "sis_int",
   "language": "python",
   "name": "python3"
  },
  "language_info": {
   "codemirror_mode": {
    "name": "ipython",
    "version": 3
   },
   "file_extension": ".py",
   "mimetype": "text/x-python",
   "name": "python",
   "nbconvert_exporter": "python",
   "pygments_lexer": "ipython3",
   "version": "3.12.3"
  }
 },
 "nbformat": 4,
 "nbformat_minor": 2
}
